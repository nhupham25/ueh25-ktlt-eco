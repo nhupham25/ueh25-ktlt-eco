{
  "nbformat": 4,
  "nbformat_minor": 0,
  "metadata": {
    "colab": {
      "provenance": [],
      "authorship_tag": "ABX9TyNSNs5YTW5ihOZII6fKKxZR",
      "include_colab_link": true
    },
    "kernelspec": {
      "name": "python3",
      "display_name": "Python 3"
    },
    "language_info": {
      "name": "python"
    }
  },
  "cells": [
    {
      "cell_type": "markdown",
      "metadata": {
        "id": "view-in-github",
        "colab_type": "text"
      },
      "source": [
        "<a href=\"https://colab.research.google.com/github/nhupham25/ueh25-ktlt-eco/blob/main/buoi02_250816/python101.ipynb\" target=\"_parent\"><img src=\"https://colab.research.google.com/assets/colab-badge.svg\" alt=\"Open In Colab\"/></a>"
      ]
    },
    {
      "cell_type": "markdown",
      "source": [
        "## Ngôn ngữ Python"
      ],
      "metadata": {
        "id": "eE5y6ep-xDqT"
      }
    },
    {
      "cell_type": "code",
      "execution_count": null,
      "metadata": {
        "colab": {
          "base_uri": "https://localhost:8080/"
        },
        "id": "VidXTQUulK6z",
        "outputId": "21863191-cb3a-4e3a-9f37-2b66a4ab0207"
      },
      "outputs": [
        {
          "output_type": "stream",
          "name": "stdout",
          "text": [
            "Hello, World\n"
          ]
        }
      ],
      "source": [
        "print(\"Hello, World\")"
      ]
    },
    {
      "cell_type": "code",
      "source": [
        "pv = 100\n",
        "r = 0.1\n",
        "n = 7\n",
        "fv = pv * ((1+r)**n)\n",
        "print(round(fv,2))"
      ],
      "metadata": {
        "colab": {
          "base_uri": "https://localhost:8080/"
        },
        "id": "FMrX8jncmeOs",
        "outputId": "926a4111-07c6-4202-d0f4-52f9aca1d934"
      },
      "execution_count": null,
      "outputs": [
        {
          "output_type": "stream",
          "name": "stdout",
          "text": [
            "194.87\n"
          ]
        }
      ]
    },
    {
      "cell_type": "code",
      "source": [
        "from IPython.display import display"
      ],
      "metadata": {
        "id": "UoLwq1LGn671"
      },
      "execution_count": null,
      "outputs": []
    },
    {
      "cell_type": "code",
      "source": [
        "print(\"Hello, World\")\n",
        "display(\"Hello, World\")"
      ],
      "metadata": {
        "colab": {
          "base_uri": "https://localhost:8080/",
          "height": 52
        },
        "id": "sZlME4KqoJdN",
        "outputId": "d43dfc99-348e-4ca9-a634-cab516ae0d78"
      },
      "execution_count": null,
      "outputs": [
        {
          "output_type": "stream",
          "name": "stdout",
          "text": [
            "Hello, World\n"
          ]
        },
        {
          "output_type": "display_data",
          "data": {
            "text/plain": [
              "'Hello, World'"
            ],
            "application/vnd.google.colaboratory.intrinsic+json": {
              "type": "string"
            }
          },
          "metadata": {}
        }
      ]
    },
    {
      "cell_type": "code",
      "source": [
        "score = 80\n",
        "if score >= 60:\n",
        "    print(\"Pass\")"
      ],
      "metadata": {
        "colab": {
          "base_uri": "https://localhost:8080/"
        },
        "id": "742rfxyqopJR",
        "outputId": "28b8e297-ffae-4186-e5f2-18590b530bd1"
      },
      "execution_count": null,
      "outputs": [
        {
          "output_type": "stream",
          "name": "stdout",
          "text": [
            "Pass\n"
          ]
        }
      ]
    },
    {
      "cell_type": "code",
      "source": [
        "#Python variables\n",
        "x = 2\n",
        "price = 2.5\n",
        "word = 'Hello'\n",
        "word = 'Hello'\n",
        "word = \"Hello\"\n",
        "word = '''Hello'''\n",
        "print(x, price, word)\n",
        "print(f'x = {x, type(x)}, price = {price, type(price)}, word = {word, type(word)}')"
      ],
      "metadata": {
        "colab": {
          "base_uri": "https://localhost:8080/"
        },
        "id": "ONGUn7LNpAFl",
        "outputId": "9814c7d0-8aeb-460d-d9f7-967486f95329"
      },
      "execution_count": null,
      "outputs": [
        {
          "output_type": "stream",
          "name": "stdout",
          "text": [
            "2 2.5 Hello\n",
            "x = (2, <class 'int'>), price = (2.5, <class 'float'>), word = ('Hello', <class 'str'>)\n"
          ]
        }
      ]
    },
    {
      "cell_type": "code",
      "source": [
        "x = 2\n",
        "y = x + 1\n",
        "print(x, y)"
      ],
      "metadata": {
        "colab": {
          "base_uri": "https://localhost:8080/"
        },
        "id": "9JdqUiJzqA90",
        "outputId": "110b754a-cf1c-44fb-825a-5d6df2282ddd"
      },
      "execution_count": null,
      "outputs": [
        {
          "output_type": "stream",
          "name": "stdout",
          "text": [
            "2 3\n"
          ]
        }
      ]
    },
    {
      "cell_type": "code",
      "source": [
        "#comment\n",
        "from platform import python_version\n",
        "print(\"Python Version:\", python_version())"
      ],
      "metadata": {
        "colab": {
          "base_uri": "https://localhost:8080/"
        },
        "id": "39mWUxHoqKc_",
        "outputId": "d2cea5fa-53e4-4220-ce9f-23caa40a09c5"
      },
      "execution_count": null,
      "outputs": [
        {
          "output_type": "stream",
          "name": "stdout",
          "text": [
            "Python Version: 3.11.13\n"
          ]
        }
      ]
    },
    {
      "cell_type": "code",
      "source": [
        "help(python_version)"
      ],
      "metadata": {
        "colab": {
          "base_uri": "https://localhost:8080/"
        },
        "id": "tdK67fEfqe67",
        "outputId": "1a72b41b-9d5d-4f53-9599-a5b6bf71eab8"
      },
      "execution_count": null,
      "outputs": [
        {
          "output_type": "stream",
          "name": "stdout",
          "text": [
            "Help on function python_version in module platform:\n",
            "\n",
            "python_version()\n",
            "    Returns the Python version as string 'major.minor.patchlevel'\n",
            "    \n",
            "    Note that unlike the Python sys.version, the returned value\n",
            "    will always include the patchlevel (it defaults to 0).\n",
            "\n"
          ]
        }
      ]
    },
    {
      "cell_type": "code",
      "source": [
        "x = 'Hello, World'\n",
        "print(x, type(x))\n",
        "\n",
        "x = 2\n",
        "print(x, type(x))\n",
        "\n",
        "x = 2.5\n",
        "print(x, type(x))\n",
        "\n",
        "x = 7j\n",
        "print(x,type(x))"
      ],
      "metadata": {
        "colab": {
          "base_uri": "https://localhost:8080/"
        },
        "id": "OFPxPg0HqnpO",
        "outputId": "4183b97b-6a4d-41b0-b1a8-651169050598"
      },
      "execution_count": null,
      "outputs": [
        {
          "output_type": "stream",
          "name": "stdout",
          "text": [
            "Hello, World <class 'str'>\n",
            "2 <class 'int'>\n",
            "2.5 <class 'float'>\n",
            "7j <class 'complex'>\n"
          ]
        }
      ]
    },
    {
      "cell_type": "code",
      "source": [
        "x = ['apple', 'banana', 'cherry']\n",
        "x.append('hello')\n",
        "print(x, type(x), x[1:3])\n",
        "\n",
        "x = ('apple', 'banana', 'cherry')\n",
        "#"
      ],
      "metadata": {
        "colab": {
          "base_uri": "https://localhost:8080/"
        },
        "id": "YGeb3DwdrXcv",
        "outputId": "24f8c3e7-c009-4855-dfb2-e7798985b465"
      },
      "execution_count": null,
      "outputs": [
        {
          "output_type": "stream",
          "name": "stdout",
          "text": [
            "['apple', 'banana', 'cherry', 'hello'] <class 'list'> ['banana', 'cherry']\n"
          ]
        }
      ]
    },
    {
      "cell_type": "code",
      "source": [
        "x = True\n",
        "print(x,type(x))\n",
        "\n",
        "x = b'Hello'  #bytes\n",
        "print(x,type(x))\n",
        "\n",
        "x =  bytearray(5) #bytearray\n",
        "print(x,type(x))\n",
        "\n",
        "x = memoryview(bytes(5)) #memoryview\n",
        "print(x,type(x), hex(id(x)))\n",
        "\n",
        "x = None #NoneType\n",
        "print(x,type(x))"
      ],
      "metadata": {
        "colab": {
          "base_uri": "https://localhost:8080/"
        },
        "id": "ZnFsZ-IFs20q",
        "outputId": "0c40d991-bfd9-4b05-a3ff-24f05bc238bb"
      },
      "execution_count": null,
      "outputs": [
        {
          "output_type": "stream",
          "name": "stdout",
          "text": [
            "True <class 'bool'>\n",
            "b'Hello' <class 'bytes'>\n",
            "bytearray(b'\\x00\\x00\\x00\\x00\\x00') <class 'bytearray'>\n",
            "<memory at 0x7e13f429f1c0> <class 'memoryview'> 0x7e13f429f1c0\n",
            "None <class 'NoneType'>\n"
          ]
        }
      ]
    },
    {
      "cell_type": "code",
      "source": [
        "x = str(3)\n",
        "y = int(4.3)\n",
        "z = float(3)\n",
        "\n",
        "print(x,type(x))\n",
        "print(y,type(y))\n",
        "print(z,type(z))"
      ],
      "metadata": {
        "colab": {
          "base_uri": "https://localhost:8080/"
        },
        "id": "a_oIJR4utpsd",
        "outputId": "64a7023a-1fb7-4477-bc65-ab58e8c62dd6"
      },
      "execution_count": null,
      "outputs": [
        {
          "output_type": "stream",
          "name": "stdout",
          "text": [
            "3 <class 'str'>\n",
            "4 <class 'int'>\n",
            "3.0 <class 'float'>\n"
          ]
        }
      ]
    },
    {
      "cell_type": "code",
      "source": [
        "#numbers\n",
        "x = 2\n",
        "print (x, type(x))\n",
        "\n",
        "y = 3.4\n",
        "print (y, type(y))\n",
        "\n",
        "z = 7j + 3.5\n",
        "print (z, type(z))"
      ],
      "metadata": {
        "colab": {
          "base_uri": "https://localhost:8080/"
        },
        "id": "JlAW_I3ft-jG",
        "outputId": "63fa8e36-ef15-4fd8-d237-eb871f038c7c"
      },
      "execution_count": null,
      "outputs": [
        {
          "output_type": "stream",
          "name": "stdout",
          "text": [
            "2 <class 'int'>\n",
            "3.4 <class 'float'>\n",
            "(3.5+7j) <class 'complex'>\n"
          ]
        }
      ]
    },
    {
      "cell_type": "code",
      "source": [
        "#Operator\n",
        "print(7+2)\n",
        "print(7-2)\n",
        "print(7*2)\n",
        "print(7/2)\n",
        "print(7//2)\n",
        "print(7%2)\n",
        "print(7**2)"
      ],
      "metadata": {
        "colab": {
          "base_uri": "https://localhost:8080/"
        },
        "id": "eu67JLafuS_j",
        "outputId": "779087bb-d7b2-4d76-b885-6f1da9411475"
      },
      "execution_count": null,
      "outputs": [
        {
          "output_type": "stream",
          "name": "stdout",
          "text": [
            "9\n",
            "5\n",
            "14\n",
            "3.5\n",
            "3\n",
            "1\n",
            "49\n"
          ]
        }
      ]
    },
    {
      "cell_type": "code",
      "source": [
        "#Comparison\n",
        "print(3>2)\n",
        "print(3<2)\n",
        "print(3==2)\n",
        "print(3!=2)\n",
        "print(3>=2)\n",
        "print(3<=2)"
      ],
      "metadata": {
        "colab": {
          "base_uri": "https://localhost:8080/"
        },
        "id": "t7U7Buquusfl",
        "outputId": "7ee0f4da-90c5-4e32-e8aa-07fce903a4a9"
      },
      "execution_count": null,
      "outputs": [
        {
          "output_type": "stream",
          "name": "stdout",
          "text": [
            "True\n",
            "False\n",
            "False\n",
            "True\n",
            "True\n",
            "False\n"
          ]
        }
      ]
    },
    {
      "cell_type": "code",
      "source": [
        "# BMI Calculator in Python\n",
        "#input\n",
        "height_cm = 170\n",
        "weight_kg = 60\n",
        "#process\n",
        "height_m = height_cm/100\n",
        "BMI = (weight_kg/(height_m**2))\n",
        "print('Your BMI is: ' + str(round(BMI,2)))"
      ],
      "metadata": {
        "colab": {
          "base_uri": "https://localhost:8080/"
        },
        "id": "EsYM8rH3u3VB",
        "outputId": "79bde558-5383-4f21-902b-e820d74ca04c"
      },
      "execution_count": null,
      "outputs": [
        {
          "output_type": "stream",
          "name": "stdout",
          "text": [
            "Your BMI is: 20.76\n"
          ]
        }
      ]
    },
    {
      "cell_type": "code",
      "source": [
        "# $100 after 7 years?\n",
        "fv = 100 * (1+0.1) ** 7\n",
        "print('fv = ', round(fv, 2))"
      ],
      "metadata": {
        "colab": {
          "base_uri": "https://localhost:8080/"
        },
        "id": "wVQzjdrfvjuB",
        "outputId": "3ff069fb-e72f-4317-d2e8-eab27f396733"
      },
      "execution_count": null,
      "outputs": [
        {
          "output_type": "stream",
          "name": "stdout",
          "text": [
            "fv =  194.87\n"
          ]
        }
      ]
    },
    {
      "cell_type": "code",
      "source": [
        "#input\n",
        "pv = 100\n",
        "r = 0.1\n",
        "n = 7\n",
        "#process\n",
        "fv = pv * ((1 + (r)) ** n)\n",
        "print('fv = ', round(fv, 2))"
      ],
      "metadata": {
        "colab": {
          "base_uri": "https://localhost:8080/"
        },
        "id": "S4sFOg25v70J",
        "outputId": "587e49b9-7134-438c-b7cc-560c8dc75e95"
      },
      "execution_count": null,
      "outputs": [
        {
          "output_type": "stream",
          "name": "stdout",
          "text": [
            "fv =  194.87\n"
          ]
        }
      ]
    },
    {
      "cell_type": "code",
      "source": [
        "#input\n",
        "amount = 100\n",
        "interest = 10 # 10%\n",
        "years = 7\n",
        "\n",
        "#process\n",
        "future_value = amount*((1+(0.01*interest)) ** years)\n",
        "print('Future value: ', round(future_value, 2))"
      ],
      "metadata": {
        "colab": {
          "base_uri": "https://localhost:8080/"
        },
        "id": "0vvqHh1HwTR0",
        "outputId": "5fb3ec29-0c48-43b4-f382-5665117bfc4c"
      },
      "execution_count": null,
      "outputs": [
        {
          "output_type": "stream",
          "name": "stdout",
          "text": [
            "Future value:  194.87\n"
          ]
        }
      ]
    },
    {
      "cell_type": "markdown",
      "source": [
        "## Cấu trúc dữ liệu"
      ],
      "metadata": {
        "id": "LxRjVhLmxUIN"
      }
    },
    {
      "cell_type": "code",
      "source": [
        "x = [\"apple\", \"banana\", \"cherry\"] #list\n",
        "print(x, type(x))\n",
        "x = (\"apple\", \"banana\", \"cherry\") #tuple\n",
        "print(x, type(x))\n",
        "x = {\"name\" : \"Tom\", \"age\" : 20} #dict\n",
        "print(x, type(x))\n",
        "x = {\"apple\", \"banana\", \"cherry\"} #set\n",
        "print(x, type(x))"
      ],
      "metadata": {
        "colab": {
          "base_uri": "https://localhost:8080/"
        },
        "id": "3iiUGNt7xa76",
        "outputId": "c79294a3-782e-48f6-ed99-78d38209ae7d"
      },
      "execution_count": null,
      "outputs": [
        {
          "output_type": "stream",
          "name": "stdout",
          "text": [
            "['apple', 'banana', 'cherry'] <class 'list'>\n",
            "('apple', 'banana', 'cherry') <class 'tuple'>\n",
            "{'name': 'Tom', 'age': 20} <class 'dict'>\n",
            "{'cherry', 'banana', 'apple'} <class 'set'>\n"
          ]
        }
      ]
    },
    {
      "cell_type": "code",
      "source": [
        "x = [60, 70, 80, 90]\n",
        "print(len(x))\n",
        "print(x[0])\n",
        "print(x[1])\n",
        "print(x[-1])"
      ],
      "metadata": {
        "colab": {
          "base_uri": "https://localhost:8080/"
        },
        "id": "T5ZwToZZyGxR",
        "outputId": "51230c10-9607-443d-bc47-0e550568d02f"
      },
      "execution_count": null,
      "outputs": [
        {
          "output_type": "stream",
          "name": "stdout",
          "text": [
            "4\n",
            "60\n",
            "70\n",
            "90\n"
          ]
        }
      ]
    },
    {
      "cell_type": "code",
      "source": [
        "# tuple\n",
        "x = (10, 20, 30, 40, 50)\n",
        "print(len(x))\n",
        "print(x[0])\n",
        "print(x[1])\n",
        "print(x[-1])\n",
        "# x[0] = 50 #error"
      ],
      "metadata": {
        "colab": {
          "base_uri": "https://localhost:8080/"
        },
        "id": "jTzOP-oCyc8l",
        "outputId": "4027ba18-04cf-4991-d7bf-1add4d5b4714"
      },
      "execution_count": null,
      "outputs": [
        {
          "output_type": "stream",
          "name": "stdout",
          "text": [
            "5\n",
            "10\n",
            "20\n",
            "50\n"
          ]
        }
      ]
    },
    {
      "cell_type": "code",
      "source": [
        "#set\n",
        "animals = {'cat', 'dog'}\n",
        "print('cat' in animals)\n",
        "print('fish' in animals)\n",
        "animals.add('fish')\n",
        "print('fish' in animals)\n",
        "print(len(animals))\n",
        "animals.add('cat')\n",
        "print(len(animals))\n",
        "animals.remove('cat')\n",
        "print(len(animals))"
      ],
      "metadata": {
        "colab": {
          "base_uri": "https://localhost:8080/"
        },
        "id": "vrOBU7Eoy8sC",
        "outputId": "8cff23f7-2a7d-40fb-ae79-4a1f2c5d7d7e"
      },
      "execution_count": null,
      "outputs": [
        {
          "output_type": "stream",
          "name": "stdout",
          "text": [
            "True\n",
            "False\n",
            "True\n",
            "3\n",
            "3\n",
            "2\n"
          ]
        }
      ]
    },
    {
      "cell_type": "code",
      "source": [
        "# dictionary\n",
        "k = { 'EN':'English','FR':'French'}\n",
        "print(k['EN'])"
      ],
      "metadata": {
        "colab": {
          "base_uri": "https://localhost:8080/"
        },
        "id": "ooR3Ydfdzqo0",
        "outputId": "13ab7bd6-7b91-4096-d732-1cb0988d9d35"
      },
      "execution_count": null,
      "outputs": [
        {
          "output_type": "stream",
          "name": "stdout",
          "text": [
            "English\n"
          ]
        }
      ]
    },
    {
      "cell_type": "code",
      "source": [
        "# data types\n",
        "fruits = ['apple', 'banana', 'cherry'] #lists []\n",
        "colors = ('red', 'green', 'blue') #tuples ()\n",
        "animals = {'cat', 'dog'} #sets {}\n",
        "person = {'name' : 'Tom', 'age' : 20} #dictionaries {}"
      ],
      "metadata": {
        "id": "DfZ1L_zuz8hA"
      },
      "execution_count": null,
      "outputs": []
    },
    {
      "cell_type": "code",
      "source": [
        "# Python Lists\n",
        "expenses = [72.50, 80.75, 50.00, 90.25]\n",
        "total_expenses = sum(expenses)\n",
        "print(\"Total expenses:\", total_expenses)"
      ],
      "metadata": {
        "colab": {
          "base_uri": "https://localhost:8080/"
        },
        "id": "pbyrxurs0aea",
        "outputId": "41b57304-c437-4911-a08d-75aa450d79f5"
      },
      "execution_count": null,
      "outputs": [
        {
          "output_type": "stream",
          "name": "stdout",
          "text": [
            "Total expenses: 293.5\n"
          ]
        }
      ]
    },
    {
      "cell_type": "code",
      "source": [
        "# Python Tuples\n",
        "accounts = (('Cash', 1001), ('Accounts Receivable', 1002), ('Inventory', 1003))\n",
        "for account in accounts:\n",
        " print(\"Account name:\", account[0], \"Account number:\", account[1])"
      ],
      "metadata": {
        "colab": {
          "base_uri": "https://localhost:8080/"
        },
        "id": "v1TSmh9u0nY4",
        "outputId": "10c1c31a-3b02-4587-8832-18b9c75f764d"
      },
      "execution_count": null,
      "outputs": [
        {
          "output_type": "stream",
          "name": "stdout",
          "text": [
            "Account name: Cash Account number: 1001\n",
            "Account name: Accounts Receivable Account number: 1002\n",
            "Account name: Inventory Account number: 1003\n"
          ]
        }
      ]
    },
    {
      "cell_type": "code",
      "source": [
        "# Python Sets\n",
        "account_numbers = set([acc[1] for acc in accounts]) #set comprehensive\n",
        "print(account_numbers)\n",
        "new_acc_number = 1004\n",
        "if new_acc_number not in account_numbers:\n",
        " print(f 'Account number {new_acc_number} is not in use')"
      ],
      "metadata": {
        "id": "a4s7FZ7t1MLw"
      },
      "execution_count": null,
      "outputs": []
    },
    {
      "cell_type": "code",
      "source": [
        "# Python Dictionaries\n",
        "accounts = {\n",
        "    \"1001\": {\"name\": \"Cash\", \"balance\": 500.0, \"type\": \"Asset\"},\n",
        "    \"1002\": {\"name\": \"Account Receivable\", \"balance\": 1000.0, \"type\": \"Asset\"},\n",
        "    \"1003\": {\"name\": \"Account Payable\", \"balance\": 750.0, \"type\": \"Liability\"}\n",
        "}\n",
        "for acc_num, acc_info in accounts.items():\n",
        " print('-'*50)\n",
        " print('Account Number:', acc_num)\n",
        "\n",
        " print('Account Name:', acc_info['name'])\n",
        " print('Account Balance:', acc_info['balance'])\n",
        " print('Account Type:', acc_info['type'])"
      ],
      "metadata": {
        "colab": {
          "base_uri": "https://localhost:8080/"
        },
        "id": "-GR5oRnB2ZgW",
        "outputId": "996761ee-1628-4c3e-9799-6a19522fc5be"
      },
      "execution_count": null,
      "outputs": [
        {
          "output_type": "stream",
          "name": "stdout",
          "text": [
            "--------------------------------------------------\n",
            "Account Number: 1001\n",
            "Account Name: Cash\n",
            "Account Balance: 500.0\n",
            "Account Type: Asset\n",
            "--------------------------------------------------\n",
            "Account Number: 1002\n",
            "Account Name: Account Receivable\n",
            "Account Balance: 1000.0\n",
            "Account Type: Asset\n",
            "--------------------------------------------------\n",
            "Account Number: 1003\n",
            "Account Name: Account Payable\n",
            "Account Balance: 750.0\n",
            "Account Type: Liability\n"
          ]
        }
      ]
    },
    {
      "cell_type": "markdown",
      "source": [
        "## Control Logic & Loops"
      ],
      "metadata": {
        "id": "g173U5hN4Juy"
      }
    },
    {
      "cell_type": "code",
      "source": [
        "# Python if\n",
        "score = 80\n",
        "if score >=60 :\n",
        "    print('Pass')"
      ],
      "metadata": {
        "colab": {
          "base_uri": "https://localhost:8080/"
        },
        "id": "h1vb1Bza4b6X",
        "outputId": "15e96e61-d8d0-43d3-8191-d4479cdec030"
      },
      "execution_count": null,
      "outputs": [
        {
          "output_type": "stream",
          "name": "stdout",
          "text": [
            "Pass\n"
          ]
        }
      ]
    },
    {
      "cell_type": "code",
      "source": [
        "# Python if else\n",
        "score = 80\n",
        "if score >= 60 :\n",
        "  print('Pass')\n",
        "else: # score < 60\n",
        "  print('Fail')"
      ],
      "metadata": {
        "colab": {
          "base_uri": "https://localhost:8080/"
        },
        "id": "DXA3a8_i413S",
        "outputId": "ce3b022a-d6bc-4f93-8ea5-0ed9a83f4050"
      },
      "execution_count": null,
      "outputs": [
        {
          "output_type": "stream",
          "name": "stdout",
          "text": [
            "Pass\n"
          ]
        }
      ]
    },
    {
      "cell_type": "code",
      "source": [
        "# If\n",
        "score = 90\n",
        "grade = ''\n",
        "if score >= 90 :\n",
        " grade = 'A'\n",
        "elif score >= 80: # score < 90 and score >= 80\n",
        " grade = 'B'\n",
        "elif score >= 70: # [70, 80)\n",
        " grade = 'C'\n",
        "elif score >= 60: # [60, 70)\n",
        " grade = 'D'\n",
        "else:\n",
        "   grade = 'F'\n",
        "print('Grade:', grade)"
      ],
      "metadata": {
        "colab": {
          "base_uri": "https://localhost:8080/"
        },
        "id": "j-eWoPZ05ERj",
        "outputId": "c32825de-92f8-4882-ac49-f68279756ac6"
      },
      "execution_count": null,
      "outputs": [
        {
          "output_type": "stream",
          "name": "stdout",
          "text": [
            "Grade: A\n"
          ]
        }
      ]
    },
    {
      "cell_type": "code",
      "source": [
        "# Loop\n",
        "for i in range(1, 6): #1<=i<6\n",
        " print(i, end = '')"
      ],
      "metadata": {
        "colab": {
          "base_uri": "https://localhost:8080/"
        },
        "id": "UXvPnKB_6M4e",
        "outputId": "0ef9f71e-d4a2-4d77-ab5d-120f65ff5230"
      },
      "execution_count": null,
      "outputs": [
        {
          "output_type": "stream",
          "name": "stdout",
          "text": [
            "12345"
          ]
        }
      ]
    },
    {
      "cell_type": "code",
      "source": [
        "# 2 Loop\n",
        "for i in range(1, 10): #i: 1 -> 9\n",
        "    for j in range(1, 10): #j: 1 -> 9\n",
        "       print(f'{i} * {j} = {i*j}')\n",
        "    print('-'*50)"
      ],
      "metadata": {
        "colab": {
          "base_uri": "https://localhost:8080/"
        },
        "id": "UfhGT_fD6ZUb",
        "outputId": "da95eb10-6f0e-4373-cf83-d6ff34d93edb"
      },
      "execution_count": null,
      "outputs": [
        {
          "output_type": "stream",
          "name": "stdout",
          "text": [
            "1 * 1 = 1\n",
            "1 * 2 = 2\n",
            "1 * 3 = 3\n",
            "1 * 4 = 4\n",
            "1 * 5 = 5\n",
            "1 * 6 = 6\n",
            "1 * 7 = 7\n",
            "1 * 8 = 8\n",
            "1 * 9 = 9\n",
            "--------------------------------------------------\n",
            "2 * 1 = 2\n",
            "2 * 2 = 4\n",
            "2 * 3 = 6\n",
            "2 * 4 = 8\n",
            "2 * 5 = 10\n",
            "2 * 6 = 12\n",
            "2 * 7 = 14\n",
            "2 * 8 = 16\n",
            "2 * 9 = 18\n",
            "--------------------------------------------------\n",
            "3 * 1 = 3\n",
            "3 * 2 = 6\n",
            "3 * 3 = 9\n",
            "3 * 4 = 12\n",
            "3 * 5 = 15\n",
            "3 * 6 = 18\n",
            "3 * 7 = 21\n",
            "3 * 8 = 24\n",
            "3 * 9 = 27\n",
            "--------------------------------------------------\n",
            "4 * 1 = 4\n",
            "4 * 2 = 8\n",
            "4 * 3 = 12\n",
            "4 * 4 = 16\n",
            "4 * 5 = 20\n",
            "4 * 6 = 24\n",
            "4 * 7 = 28\n",
            "4 * 8 = 32\n",
            "4 * 9 = 36\n",
            "--------------------------------------------------\n",
            "5 * 1 = 5\n",
            "5 * 2 = 10\n",
            "5 * 3 = 15\n",
            "5 * 4 = 20\n",
            "5 * 5 = 25\n",
            "5 * 6 = 30\n",
            "5 * 7 = 35\n",
            "5 * 8 = 40\n",
            "5 * 9 = 45\n",
            "--------------------------------------------------\n",
            "6 * 1 = 6\n",
            "6 * 2 = 12\n",
            "6 * 3 = 18\n",
            "6 * 4 = 24\n",
            "6 * 5 = 30\n",
            "6 * 6 = 36\n",
            "6 * 7 = 42\n",
            "6 * 8 = 48\n",
            "6 * 9 = 54\n",
            "--------------------------------------------------\n",
            "7 * 1 = 7\n",
            "7 * 2 = 14\n",
            "7 * 3 = 21\n",
            "7 * 4 = 28\n",
            "7 * 5 = 35\n",
            "7 * 6 = 42\n",
            "7 * 7 = 49\n",
            "7 * 8 = 56\n",
            "7 * 9 = 63\n",
            "--------------------------------------------------\n",
            "8 * 1 = 8\n",
            "8 * 2 = 16\n",
            "8 * 3 = 24\n",
            "8 * 4 = 32\n",
            "8 * 5 = 40\n",
            "8 * 6 = 48\n",
            "8 * 7 = 56\n",
            "8 * 8 = 64\n",
            "8 * 9 = 72\n",
            "--------------------------------------------------\n",
            "9 * 1 = 9\n",
            "9 * 2 = 18\n",
            "9 * 3 = 27\n",
            "9 * 4 = 36\n",
            "9 * 5 = 45\n",
            "9 * 6 = 54\n",
            "9 * 7 = 63\n",
            "9 * 8 = 72\n",
            "9 * 9 = 81\n",
            "--------------------------------------------------\n"
          ]
        }
      ]
    },
    {
      "cell_type": "markdown",
      "source": [
        "## Module and Function"
      ],
      "metadata": {
        "id": "Dcl4AiLcD2Wi"
      }
    },
    {
      "cell_type": "code",
      "source": [
        "# while\n",
        "age = 10\n",
        "while age < 20:\n",
        "print(age, end = \"\")\n",
        "age = age + 1"
      ],
      "metadata": {
        "id": "ExsZDytX7VW0"
      },
      "execution_count": null,
      "outputs": []
    },
    {
      "cell_type": "code",
      "source": [
        "# Python Function def\n",
        "# indentation for blocks. four spaces\n",
        "def getfv(pv, r, n):\n",
        "  fv = pv * ((1 + r) ** n)\n",
        "  return fv\n",
        "  pass\n",
        "\n",
        "fv = getfv(100, 0.1, 7)\n",
        "print('Future value = ', round(fv, 2))"
      ],
      "metadata": {
        "colab": {
          "base_uri": "https://localhost:8080/"
        },
        "id": "-2qirDZrDF0u",
        "outputId": "d1638693-c535-40ba-dfd4-1d1e91ad8398"
      },
      "execution_count": null,
      "outputs": [
        {
          "output_type": "stream",
          "name": "stdout",
          "text": [
            "Future value =  194.87\n"
          ]
        }
      ]
    },
    {
      "cell_type": "code",
      "source": [
        "# Python class\n",
        "class MyClass:\n",
        "x = 5\n",
        "c1 = MyClass()\n",
        "print(c1.x)"
      ],
      "metadata": {
        "id": "myXenE2wDt4J"
      },
      "execution_count": null,
      "outputs": []
    },
    {
      "cell_type": "code",
      "source": [
        "# class\n",
        "class Person:\n",
        "  def __init__(self, name, age): #constructor\n",
        "    self.name = name\n",
        "self.age = age\n",
        "p1 = Person(\"Alan\", 20)\n",
        "print(p1.name)\n",
        "print(p1.age)"
      ],
      "metadata": {
        "id": "nK9zVdywEGq9"
      },
      "execution_count": null,
      "outputs": []
    },
    {
      "cell_type": "code",
      "source": [
        "class Person:\n",
        "def __init__(self, name, age):\n",
        "  self.name = name\n",
        "  self.age = age\n",
        "def myfunc(self):\n",
        "  print('Hello my name is' + self.name)\n",
        "  pass\n",
        "\n",
        "p1 = Person('Alan', 20)\n",
        "p1.myfunc()"
      ],
      "metadata": {
        "id": "H7jaML_ZEsff"
      },
      "execution_count": null,
      "outputs": []
    },
    {
      "cell_type": "code",
      "source": [
        "class Vehicle:\n",
        "name = \"\"\n",
        "kind = \"car\"\n",
        "color = \"\"\n",
        "value = 100.0\n",
        "\n",
        "def description(self):\n",
        "  desc_str = f'{self.name} is a {self.color} {self.kind} worth {self.value: .2f}.'\n",
        "  return desc_str\n",
        "  pass\n",
        "\n",
        "car1 = Vehicle('Fer', 'red', 'convertible', 60000.00)\n",
        "car2 = Vehicle('Jump', 'blue', 'van', 10000.00\n",
        "\n",
        "\n",
        "print(car1.description())\n",
        "print(car2.description())"
      ],
      "metadata": {
        "id": "Vnq1WZTQE_cO"
      },
      "execution_count": null,
      "outputs": []
    },
    {
      "cell_type": "code",
      "source": [
        "%%writefile mymodule.py\n",
        "def greeting(name):\n",
        "  print(\"Hello, \", name)"
      ],
      "metadata": {
        "colab": {
          "base_uri": "https://localhost:8080/"
        },
        "id": "ZnXXjm9kGlPf",
        "outputId": "6f90d1ad-4774-4906-eec4-5bcf9f6f9000"
      },
      "execution_count": null,
      "outputs": [
        {
          "output_type": "stream",
          "name": "stdout",
          "text": [
            "Writing mymodule.py\n"
          ]
        }
      ]
    },
    {
      "cell_type": "code",
      "source": [
        "  !cat mymodule.py"
      ],
      "metadata": {
        "colab": {
          "base_uri": "https://localhost:8080/"
        },
        "id": "z7aBnVu6HGUj",
        "outputId": "869e3030-2079-4570-e718-87d440b88e21"
      },
      "execution_count": null,
      "outputs": [
        {
          "output_type": "stream",
          "name": "stdout",
          "text": [
            "def greeting(name):\n",
            "  print(\"Hello, \", name)\n"
          ]
        }
      ]
    },
    {
      "cell_type": "code",
      "source": [
        "def greeting(name):\n",
        "  print(\"Xin Chao, \", name)"
      ],
      "metadata": {
        "id": "5CXXwDYTHTD3"
      },
      "execution_count": null,
      "outputs": []
    },
    {
      "cell_type": "code",
      "source": [
        "import mymodule as mm\n",
        "mm.greeting('Alan')"
      ],
      "metadata": {
        "id": "6WO2hRxRHW5y"
      },
      "execution_count": null,
      "outputs": []
    },
    {
      "cell_type": "markdown",
      "source": [
        "## Read/Write File"
      ],
      "metadata": {
        "id": "al8BCaHKH8VC"
      }
    },
    {
      "cell_type": "code",
      "source": [
        "from os import write\n",
        "with open('a.txt','w') as file:\n",
        "  file.write  ('Hello, World\\nThis is demo input/output')"
      ],
      "metadata": {
        "id": "oCipPy_jH_j2"
      },
      "execution_count": null,
      "outputs": []
    },
    {
      "cell_type": "code",
      "source": [
        "with open('a.txt','w') as file:\n",
        "  print(file.readlines)"
      ],
      "metadata": {
        "id": "EZk2_hwIIprT"
      },
      "execution_count": null,
      "outputs": []
    },
    {
      "cell_type": "code",
      "source": [
        "#Python main() function\n",
        "def main():\n",
        "  print('Hello World!')\n",
        "print(__name__)\n",
        "if __name__ == \"__main__\":\n",
        "main()"
      ],
      "metadata": {
        "id": "TodI6PdKIz32"
      },
      "execution_count": null,
      "outputs": []
    },
    {
      "cell_type": "markdown",
      "source": [
        "## Try, Except & File Handling"
      ],
      "metadata": {
        "id": "Pgzwp7cSJPB7"
      }
    },
    {
      "cell_type": "code",
      "source": [
        "try:\n",
        "  f = open('aa.txt')\n",
        "except: # neu loi\n",
        "  print('File Error')\n",
        "  pass\n",
        "finally: # neu khong loi\n",
        "  print('Final')"
      ],
      "metadata": {
        "colab": {
          "base_uri": "https://localhost:8080/"
        },
        "id": "1igx7EMiJUtz",
        "outputId": "9382c9d1-a1f0-4345-ab62-4ba7962bca50"
      },
      "execution_count": null,
      "outputs": [
        {
          "output_type": "stream",
          "name": "stdout",
          "text": [
            "File Error\n",
            "Final\n"
          ]
        }
      ]
    },
    {
      "cell_type": "code",
      "source": [
        "!ls /content/drive/MyDrive/"
      ],
      "metadata": {
        "colab": {
          "base_uri": "https://localhost:8080/"
        },
        "id": "_d1Lyt58Jz2j",
        "outputId": "83108202-37cb-4af3-a58b-420ac419cff9"
      },
      "execution_count": null,
      "outputs": [
        {
          "output_type": "stream",
          "name": "stdout",
          "text": [
            "ls: cannot access '/content/drive/MyDrive/': No such file or directory\n"
          ]
        }
      ]
    },
    {
      "cell_type": "code",
      "source": [
        "import os\n",
        "\n",
        "print(os.getcwd)"
      ],
      "metadata": {
        "id": "4J3LBLyDKE9N"
      },
      "execution_count": null,
      "outputs": []
    },
    {
      "cell_type": "markdown",
      "source": [
        "## Kết thúc"
      ],
      "metadata": {
        "id": "-BZ2ujbrHJaO"
      }
    }
  ]
}